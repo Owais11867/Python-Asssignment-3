{
 "cells": [
  {
   "cell_type": "code",
   "execution_count": 1,
   "id": "c3c34bca",
   "metadata": {},
   "outputs": [
    {
     "name": "stdout",
     "output_type": "stream",
     "text": [
      "Twinkle,twinkle,little star,\n",
      "      How I wonder what you are!\n",
      "            Up above the world so high,\n",
      "            Like a diamond in the sky.\n",
      "Twinkle,twinkle,little star,\n",
      "      How I wonder what you are\n"
     ]
    }
   ],
   "source": [
    "\"\"\" 1.Write a Python program to print the following string in a specific format (see the \n",
    "output). \n",
    "Twinkle, twinkle, little star, \n",
    " \n",
    "How I wonder what you are! \n",
    " \n",
    "Up above the world so high, \n",
    "Like a diamond in the sky. \n",
    " \n",
    "Twinkle, twinkle, little star, \n",
    " \n",
    "How I wonder what you are\"\"\"\n",
    "\n",
    "print (\"Twinkle,twinkle,little star,\\n      How I wonder what you are!\\n            Up above the world so high,\\n            Like a diamond in the sky.\\nTwinkle,twinkle,little star,\\n      How I wonder what you are\");"
   ]
  },
  {
   "cell_type": "code",
   "execution_count": 5,
   "id": "00818b40",
   "metadata": {},
   "outputs": [
    {
     "name": "stdout",
     "output_type": "stream",
     "text": [
      "3.8.8\n"
     ]
    }
   ],
   "source": [
    "\"\"\"2.Write a Python program to get the Python version you are using.\"\"\"\n",
    "\n",
    "from platform import python_version\n",
    "print(python_version());"
   ]
  },
  {
   "cell_type": "code",
   "execution_count": 6,
   "id": "ac371c30",
   "metadata": {},
   "outputs": [
    {
     "name": "stdout",
     "output_type": "stream",
     "text": [
      "Current date and time is:2021-10-25 22:58:13.852558\n"
     ]
    }
   ],
   "source": [
    "\"\"\"3.Write a Python program to display the current date and time.\"\"\"\n",
    "\n",
    "import datetime\n",
    "crrnt_dt = datetime.datetime.now();\n",
    "print(\"Current date and time is:\" +str(crrnt_dt))"
   ]
  },
  {
   "cell_type": "code",
   "execution_count": 7,
   "id": "0c2f8779",
   "metadata": {},
   "outputs": [
    {
     "name": "stdout",
     "output_type": "stream",
     "text": [
      "Enter the radius of circle: 25\n",
      "1963.4954084936207\n"
     ]
    }
   ],
   "source": [
    "\"\"\"4.Write a Python program which accepts the radius of a circle from the user and compute \n",
    "the area.\"\"\"\n",
    "\n",
    "import math\n",
    "radius = int(input(\"Enter the radius of circle: \"));\n",
    "area = math.pi * radius**2;\n",
    "print(area);"
   ]
  },
  {
   "cell_type": "code",
   "execution_count": 8,
   "id": "fa2bbd63",
   "metadata": {},
   "outputs": [
    {
     "name": "stdout",
     "output_type": "stream",
     "text": [
      "Enter your first name: Owais\n",
      "Enter your last name: Ansari\n",
      "Ansari Owais\n"
     ]
    }
   ],
   "source": [
    "\"\"\"5.Write a Python program which accepts the user's first and last name and print them in \n",
    "reverse order with a space between them.\"\"\"\n",
    "\n",
    "f_name = input(\"Enter your first name: \");\n",
    "l_name = input(\"Enter your last name: \");\n",
    "print (l_name  + \" \" +  f_name);"
   ]
  },
  {
   "cell_type": "code",
   "execution_count": 9,
   "id": "33b054c1",
   "metadata": {},
   "outputs": [
    {
     "name": "stdout",
     "output_type": "stream",
     "text": [
      "Enter first input: Muhammad \n",
      "Enter the second input: Owais\n",
      "Muhammad Owais\n"
     ]
    }
   ],
   "source": [
    "\"\"\"6. Write a python program which takes two inputs from user and print them addition.\"\"\"\n",
    "\n",
    "f_input = input(\"Enter first input: \");\n",
    "s_input = input(\"Enter the second input: \");\n",
    "addition = f_input + s_input;\n",
    "print(addition)"
   ]
  },
  {
   "cell_type": "code",
   "execution_count": 10,
   "id": "81e137cb",
   "metadata": {},
   "outputs": [
    {
     "name": "stdout",
     "output_type": "stream",
     "text": [
      "Enter the marks of English: 87\n",
      "Enter the marks of Islamiyat: 80\n",
      "Enter the marks of Math: 65\n",
      "Enter the marks of PST: 60\n",
      "Enter the marks of Science: 55\n",
      "Total Marks: 500\n",
      "Obtained Mark: 347\n",
      "Percentage: 69.39999999999999\n",
      "Grade: B\n"
     ]
    }
   ],
   "source": [
    "\"\"\"7.Write a program which takes 5 inputs from user for different subject’s marks, total it \n",
    "and generate mark sheet using grades ? \"\"\"\n",
    "\n",
    "english = int(input(\"Enter the marks of English: \"));\n",
    "islam = int(input(\"Enter the marks of Islamiyat: \"));\n",
    "math = int(input(\"Enter the marks of Math: \"));\n",
    "pst = int(input(\"Enter the marks of PST: \"));\n",
    "science = int(input(\"Enter the marks of Science: \"));\n",
    "\n",
    "t_mark = 500;\n",
    "obtn_mark = english + islam + math + pst + science;\n",
    "percent = obtn_mark / t_mark * 100;\n",
    "\n",
    "print(\"Total Marks: \" + str(t_mark));\n",
    "print(\"Obtained Mark: \" + str(obtn_mark));\n",
    "print(\"Percentage: \" + str(percent));\n",
    "\n",
    "if percent >= 80 and percent <100:\n",
    "    print(\"Grade: A+\");\n",
    "elif percent >= 70 and percent <80:\n",
    "    print(\"Grade: A\");\n",
    "elif percent >= 60 and percent <70:\n",
    "    print(\"Grade: B\");\n",
    "elif percent >= 50 and percent <60:\n",
    "    print(\"Grade: C\");\n",
    "elif percent >= 40 and percent <50:\n",
    "    print(\"Grade: D\");\n",
    "elif percent >= 30 and percent <40:\n",
    "    print(\"Grade: E\");\n",
    "elif percent >= 0 and percent <30:\n",
    "    print(\"Grade: Fail\");\n",
    "else:\n",
    "    print(\"Somethong wrong in calculation.\");"
   ]
  },
  {
   "cell_type": "code",
   "execution_count": 11,
   "id": "5af85a04",
   "metadata": {},
   "outputs": [
    {
     "name": "stdout",
     "output_type": "stream",
     "text": [
      "Enter any number to check that is even or odd: 29\n",
      "Number is odd.\n"
     ]
    }
   ],
   "source": [
    "\"\"\"8.Write a program which take input from user and identify that the given number is even \n",
    "or odd? \"\"\"\n",
    "\n",
    "num = int(input(\"Enter any number to check that is even or odd: \"));\n",
    "if num%2 == 0:\n",
    "    print(\"Number is even.\");\n",
    "else:\n",
    "    print(\"Number is odd.\");"
   ]
  },
  {
   "cell_type": "code",
   "execution_count": 12,
   "id": "a44faa77",
   "metadata": {},
   "outputs": [
    {
     "name": "stdout",
     "output_type": "stream",
     "text": [
      "5\n"
     ]
    }
   ],
   "source": [
    "\"\"\"9.Write a program which print the length of the list? \"\"\"\n",
    "\n",
    "list = [2,45,6,57,65]\n",
    "print (len(list))"
   ]
  },
  {
   "cell_type": "code",
   "execution_count": 13,
   "id": "62b67677",
   "metadata": {},
   "outputs": [
    {
     "name": "stdout",
     "output_type": "stream",
     "text": [
      "Sum of all elments of the list: 100\n"
     ]
    }
   ],
   "source": [
    "\"\"\"10.Write a Python program to sum all the numeric items in a list?\"\"\"\n",
    "\n",
    "list = [5,10,15,50,20]\n",
    "add = sum(list);\n",
    "print(\"Sum of all elments of the list: \"+ str(add))"
   ]
  },
  {
   "cell_type": "code",
   "execution_count": 14,
   "id": "16d5919e",
   "metadata": {},
   "outputs": [
    {
     "name": "stdout",
     "output_type": "stream",
     "text": [
      "Smallest element of the list: 5\n",
      "Largest element of the list: 50\n"
     ]
    }
   ],
   "source": [
    "\"\"\"11.Write a Python program to get the largest number from a numeric list.\"\"\"\n",
    "\n",
    "list = [5,10,15,50,20]\n",
    "list.sort()\n",
    "print(\"Smallest element of the list: \"+str(list[0]))\n",
    "print(\"Largest element of the list: \"+str(list[-1]))"
   ]
  },
  {
   "cell_type": "code",
   "execution_count": 15,
   "id": "96b55987",
   "metadata": {},
   "outputs": [
    {
     "name": "stdout",
     "output_type": "stream",
     "text": [
      "Elements of the list less than 5: [1, 1, 2, 3]\n"
     ]
    }
   ],
   "source": [
    "\"\"\"12.. Take a list, say for example this one: \n",
    " a = [1, 1, 2, 3, 5, 8, 13, 21, 34, 55, 89] \n",
    " Write a program that prints out all the elements of the list that are less than 5.\"\"\"\n",
    "\n",
    "a = [1, 1, 2, 3, 5, 8, 13, 21, 34, 55, 89]\n",
    "new = [];\n",
    "for y in a:\n",
    "    if (y<5):\n",
    "        new = new+[y];\n",
    "print(\"Elements of the list less than 5: \"+str(new));"
   ]
  },
  {
   "cell_type": "code",
   "execution_count": null,
   "id": "eb6f5e3e",
   "metadata": {},
   "outputs": [],
   "source": []
  }
 ],
 "metadata": {
  "kernelspec": {
   "display_name": "Python 3",
   "language": "python",
   "name": "python3"
  },
  "language_info": {
   "codemirror_mode": {
    "name": "ipython",
    "version": 3
   },
   "file_extension": ".py",
   "mimetype": "text/x-python",
   "name": "python",
   "nbconvert_exporter": "python",
   "pygments_lexer": "ipython3",
   "version": "3.8.8"
  }
 },
 "nbformat": 4,
 "nbformat_minor": 5
}
